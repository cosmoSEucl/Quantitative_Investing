{
 "cells": [
  {
   "cell_type": "markdown",
   "id": "c2f88030",
   "metadata": {},
   "source": [
    "### Problem Set 6"
   ]
  },
  {
   "cell_type": "markdown",
   "id": "d0c6150a",
   "metadata": {},
   "source": [
    "source venv/bin/activate"
   ]
  },
  {
   "cell_type": "code",
   "execution_count": 30,
   "id": "49837218",
   "metadata": {},
   "outputs": [],
   "source": [
    "import pandas as pd\n",
    "\n",
    "import pandas as pd\n",
    "import numpy as np\n",
    "\n",
    "def load_excel(file_path, sheet_name, date_col=0, header_start=0, header_rows=1):\n",
    "    \"\"\"\n",
    "    Load an Excel sheet by explicitly specifying which row starts the header \n",
    "    and how many header rows there are.\n",
    "\n",
    "    Parameters\n",
    "    ----------\n",
    "    file_path : str\n",
    "        Path to the Excel file.\n",
    "    sheet_name : str or int\n",
    "        Sheet name or index.\n",
    "    date_col : int\n",
    "        Index (0-based) of the date column.\n",
    "    header_start : int\n",
    "        Row number (0-based) where the header begins in Excel.\n",
    "        e.g., if header is on Excel row 3, use header_start=2.\n",
    "    header_rows : int\n",
    "        Number of header rows to read (1 or 2).\n",
    "\n",
    "    Returns\n",
    "    -------\n",
    "    pd.DataFrame\n",
    "        Cleaned DataFrame with datetime index and decimal returns.\n",
    "    \"\"\"\n",
    "    # Define which rows are headers\n",
    "    header_arg = list(range(header_start, header_start + header_rows))\n",
    "\n",
    "    # Read Excel with those exact header rows\n",
    "    df = pd.read_excel(file_path, sheet_name=sheet_name, header=header_arg)\n",
    "\n",
    "    # Flatten multi-level headers \n",
    "    if header_rows > 1:\n",
    "        df.columns = [\n",
    "            \"_\".join([str(x) for x in col if str(x) != \"nan\"]).strip()\n",
    "            for col in df.columns.values\n",
    "        ]\n",
    "\n",
    "    # Convert date column (YYYYMM)\n",
    "    df.iloc[:, date_col] = pd.to_datetime(\n",
    "        df.iloc[:, date_col].astype(str),\n",
    "        format=\"%Y%m\",\n",
    "        errors=\"coerce\"\n",
    "    )\n",
    "    df.set_index(df.columns[date_col], inplace=True)\n",
    "    df.index.name = \"Date\"\n",
    "\n",
    "    return df"
   ]
  },
  {
   "cell_type": "code",
   "execution_count": 31,
   "id": "0dce46b6",
   "metadata": {},
   "outputs": [
    {
     "name": "stderr",
     "output_type": "stream",
     "text": [
      "/var/folders/tc/sdlxn7_55cz_1hht7bn19zch0000gn/T/ipykernel_84958/230084123.py:44: FutureWarning: Setting an item of incompatible dtype is deprecated and will raise in a future error of pandas. Value '0      1926-07-01\n",
      "1      1926-08-01\n",
      "2      1926-09-01\n",
      "3      1926-10-01\n",
      "4      1926-11-01\n",
      "          ...    \n",
      "1080   2016-07-01\n",
      "1081   2016-08-01\n",
      "1082   2016-09-01\n",
      "1083   2016-10-01\n",
      "1084   2016-11-01\n",
      "Name: Unnamed: 0, Length: 1085, dtype: datetime64[ns]' has dtype incompatible with int64, please explicitly cast to a compatible dtype first.\n",
      "  df.iloc[:, date_col] = pd.to_datetime(\n",
      "/var/folders/tc/sdlxn7_55cz_1hht7bn19zch0000gn/T/ipykernel_84958/230084123.py:44: FutureWarning: Setting an item of incompatible dtype is deprecated and will raise in a future error of pandas. Value '0      1926-07-01\n",
      "1      1926-08-01\n",
      "2      1926-09-01\n",
      "3      1926-10-01\n",
      "4      1926-11-01\n",
      "          ...    \n",
      "1080   2016-07-01\n",
      "1081   2016-08-01\n",
      "1082   2016-09-01\n",
      "1083   2016-10-01\n",
      "1084   2016-11-01\n",
      "Name: Unnamed: 0, Length: 1085, dtype: datetime64[ns]' has dtype incompatible with int64, please explicitly cast to a compatible dtype first.\n",
      "  df.iloc[:, date_col] = pd.to_datetime(\n"
     ]
    }
   ],
   "source": [
    "industries = load_excel(\"../data/Problem_Set6.xlsx\",\"30 industries\", date_col=0, header_start=3, header_rows=1)\n",
    "factors = load_excel(\"../data/Problem_Set6.xlsx\",\"Fama-French factors\", date_col=0, header_start=2, header_rows=1)"
   ]
  },
  {
   "cell_type": "code",
   "execution_count": 10,
   "id": "7010cffa",
   "metadata": {},
   "outputs": [
    {
     "name": "stdout",
     "output_type": "stream",
     "text": [
      "            Food   Beer  Smoke  Games  Books  Hshld  Clths  Hlth  Chems  \\\n",
      "Date                                                                      \n",
      "1926-07-01  0.56  -5.19   1.29   2.93  10.97  -0.48   8.08  1.77   8.14   \n",
      "1926-08-01  2.59  27.03   6.50   0.55  10.01  -3.58  -2.51  4.25   5.50   \n",
      "1926-09-01  1.16   4.02   1.26   6.58  -0.99   0.73  -0.51  0.69   5.33   \n",
      "1926-10-01 -3.06  -3.31   1.06  -4.76   9.47  -4.68   0.12 -0.57  -4.76   \n",
      "1926-11-01  6.35   7.29   4.55   1.66  -5.80  -0.54   1.87  5.42   5.20   \n",
      "\n",
      "            Txtls  ...  Telcm  Servs  BusEq  Paper  Trans  Whlsl  Rtail  \\\n",
      "Date               ...                                                    \n",
      "1926-07-01   0.39  ...   0.83   9.22   2.06   7.70   1.93 -23.79   0.07   \n",
      "1926-08-01   8.14  ...   2.17   2.02   4.39  -2.38   4.88   5.39  -0.75   \n",
      "1926-09-01   2.31  ...   2.41   2.25   0.19  -5.54   0.05  -7.87   0.25   \n",
      "1926-10-01   1.00  ...  -0.11  -2.00  -1.09  -5.08  -2.64 -15.38  -2.20   \n",
      "1926-11-01   3.11  ...   1.63   3.77   3.64   3.84   1.60   4.67   6.52   \n",
      "\n",
      "            Meals   Fin  Other  \n",
      "Date                            \n",
      "1926-07-01   1.87  0.37   5.20  \n",
      "1926-08-01  -0.13  4.46   6.76  \n",
      "1926-09-01  -0.56 -1.23  -3.86  \n",
      "1926-10-01  -4.11 -5.16  -8.49  \n",
      "1926-11-01   4.33  2.24   4.00  \n",
      "\n",
      "[5 rows x 30 columns]\n"
     ]
    }
   ],
   "source": [
    "print(industries.head())"
   ]
  },
  {
   "cell_type": "code",
   "execution_count": 33,
   "id": "913781f7",
   "metadata": {},
   "outputs": [
    {
     "name": "stdout",
     "output_type": "stream",
     "text": [
      "            Mkt-RF   SMB   HML    RF   UMD\n",
      "Date                                      \n",
      "1926-07-01    2.96 -2.30 -2.87  0.22   NaN\n",
      "1926-08-01    2.64 -1.40  4.19  0.25   NaN\n",
      "1926-09-01    0.36 -1.32  0.01  0.23   NaN\n",
      "1926-10-01   -3.24  0.04  0.51  0.32   NaN\n",
      "1926-11-01    2.53 -0.20 -0.35  0.31   NaN\n",
      "1926-12-01    2.62 -0.04 -0.02  0.28   NaN\n",
      "1927-01-01   -0.06 -0.56  4.83  0.25  0.44\n",
      "1927-02-01    4.18 -0.10  3.17  0.26 -2.01\n",
      "1927-03-01    0.13 -1.60 -2.67  0.30  3.59\n",
      "1927-04-01    0.46  0.43  0.60  0.25  4.19\n",
      "1927-05-01    5.44  1.41  4.93  0.30  3.01\n",
      "1927-06-01   -2.34  0.47 -1.53  0.26  0.51\n",
      "1927-07-01    7.26 -3.23 -1.16  0.30  4.32\n",
      "1927-08-01    1.97 -0.72 -3.69  0.28  1.12\n",
      "1927-09-01    4.76 -3.57 -0.71  0.21  1.93\n",
      "1927-10-01   -4.31  2.13 -4.33  0.25 -1.11\n",
      "1927-11-01    6.58  2.76 -0.31  0.21 -0.68\n",
      "1927-12-01    2.09  0.93 -1.06  0.22  3.19\n",
      "1928-01-01   -0.68  4.25 -0.72  0.25 -0.60\n",
      "1928-02-01   -1.70 -2.03 -0.69  0.33 -1.02\n",
      "1928-03-01    8.81 -0.26 -1.20  0.29  4.87\n",
      "1928-04-01    4.23  3.82  3.67  0.22 -5.65\n",
      "1928-05-01    1.52  2.98 -3.46  0.32  2.85\n",
      "1928-06-01   -4.85 -3.50 -0.06  0.31  2.05\n",
      "1928-07-01    0.62 -1.35 -0.47  0.32  2.75\n"
     ]
    }
   ],
   "source": [
    "print(factors.head(25))\n",
    "factors.replace([-99.99, -999], np.nan, inplace=True)\n"
   ]
  },
  {
   "cell_type": "code",
   "execution_count": 34,
   "id": "b9f8a8c0",
   "metadata": {},
   "outputs": [],
   "source": [
    "# Align on the same date index\n",
    "industry_df = industries.loc[industries.index.isin(factors.index)]\n",
    "\n",
    "# Compute excess returns (industry - RF)\n",
    "industry_excess = industry_df.sub(factors[\"RF\"], axis=0)\n",
    "\n",
    "# Market excess \n",
    "market_excess = factors[\"Mkt-RF\"]"
   ]
  },
  {
   "cell_type": "markdown",
   "id": "9dcbe426",
   "metadata": {},
   "source": [
    "### Question A 1-Month / 1-Month Momentum Strategy"
   ]
  },
  {
   "cell_type": "markdown",
   "id": "33b1c237",
   "metadata": {},
   "source": [
    "industries that performed well last month will continue to perform well this month"
   ]
  },
  {
   "cell_type": "code",
   "execution_count": 35,
   "id": "178a3e94",
   "metadata": {},
   "outputs": [],
   "source": [
    "import numpy as np\n",
    "def momentum_strategy(df, top_n=3, lookback=1, skip=0):\n",
    "    \"\"\"\n",
    "    Compute a k-month, 1-month momentum strategy.\n",
    "\n",
    "    Parameters\n",
    "    ----------\n",
    "    df : pd.DataFrame\n",
    "        Industry return data (monthly, in decimals, not %).\n",
    "    top_n : int\n",
    "        Number of top and bottom industries to use.\n",
    "    lookback : int\n",
    "        Number of months to look back for ranking (e.g. 1 for 1-month, 12 for 12-month).\n",
    "    skip : int\n",
    "        Number of months to skip between ranking period and holding period (e.g. 1 for skip-month).\n",
    "\n",
    "    Returns\n",
    "    -------\n",
    "    pd.Series\n",
    "        Momentum portfolio returns.\n",
    "    \"\"\"\n",
    "    momentum_returns = []\n",
    "\n",
    "    # start loop after enough data for lookback + skip\n",
    "    for t in range(lookback + skip, len(df)):\n",
    "        # returns from lookback window (t-1 for 1-month, t-12:t for 12-month cumulative)\n",
    "        lookback_window = df.iloc[t - lookback - skip : t - skip]\n",
    "        past_perf = (1 + lookback_window).prod() - 1  # cumulative return over lookback\n",
    "\n",
    "        # find best/worst performers\n",
    "        winners = past_perf.nlargest(top_n).index\n",
    "        losers = past_perf.nsmallest(top_n).index\n",
    "\n",
    "        # compute next month return (holding period = 1 month)\n",
    "        current_month = df.iloc[t]\n",
    "        long_ret = current_month[winners].mean()\n",
    "        short_ret = current_month[losers].mean()\n",
    "        momentum_ret = long_ret - short_ret\n",
    "\n",
    "        momentum_returns.append(momentum_ret)\n",
    "\n",
    "    momentum_series = pd.Series(momentum_returns, index=df.index[lookback + skip:], name=f\"Mom_{lookback}m_{skip}skip\")\n",
    "    return momentum_series"
   ]
  },
  {
   "cell_type": "code",
   "execution_count": 36,
   "id": "0d066e11",
   "metadata": {},
   "outputs": [],
   "source": [
    "def summarize_strategy(momentum_series):\n",
    "    \"\"\"\n",
    "    Compute mean, std, Sharpe, and t-statistic for a strategy return series.\n",
    "    \"\"\"\n",
    "    mean_ret = momentum_series.mean()\n",
    "    std_ret = momentum_series.std()\n",
    "    sharpe = mean_ret / std_ret\n",
    "    t_stat = mean_ret / (std_ret / np.sqrt(len(momentum_series)))\n",
    "\n",
    "    print(f\"Average Return: {mean_ret:.4f}\")\n",
    "    print(f\"Std Dev: {std_ret:.4f}\")\n",
    "    print(f\"Sharpe Ratio: {sharpe:.4f}\")\n",
    "    print(f\"T-statistic: {t_stat:.4f}\")\n",
    "    return mean_ret, std_ret, sharpe, t_stat"
   ]
  },
  {
   "cell_type": "code",
   "execution_count": 37,
   "id": "822f8fa8",
   "metadata": {},
   "outputs": [
    {
     "name": "stdout",
     "output_type": "stream",
     "text": [
      "Average Return: 0.6936\n",
      "Std Dev: 5.4477\n",
      "Sharpe Ratio: 0.1273\n",
      "T-statistic: 4.1919\n"
     ]
    },
    {
     "data": {
      "text/plain": [
       "(np.float64(0.6936039360393603),\n",
       " np.float64(5.447712880838324),\n",
       " np.float64(0.12732020780298992),\n",
       " np.float64(4.191910290244324))"
      ]
     },
     "execution_count": 37,
     "metadata": {},
     "output_type": "execute_result"
    }
   ],
   "source": [
    "# Compute the 1-month lookback, 1-month holding industry momentum\n",
    "mom_1_1 = momentum_strategy(industries, top_n=3, lookback=1, skip=0)\n",
    "\n",
    "# Print results\n",
    "summarize_strategy(mom_1_1)"
   ]
  },
  {
   "cell_type": "markdown",
   "id": "47be7b66",
   "metadata": {},
   "source": [
    "### Question B"
   ]
  },
  {
   "cell_type": "code",
   "execution_count": 39,
   "id": "0506f8e7",
   "metadata": {},
   "outputs": [],
   "source": [
    "import numpy as np\n",
    "import pandas as pd\n",
    "import statsmodels.api as sm\n",
    "\n",
    "def decompose_momentum(df, market_series):\n",
    "    df = df / 100\n",
    "    market_series = market_series / 100\n",
    "\n",
    "    betas = []\n",
    "    residuals = pd.DataFrame(index=df.index)\n",
    "\n",
    "    # Estimate beta and residuals for each industry\n",
    "    for col in df.columns:\n",
    "        y = df[col].dropna()\n",
    "        X = sm.add_constant(market_series.loc[y.index])\n",
    "        model = sm.OLS(y, X).fit()\n",
    "        betas.append(model.params.iloc[1])\n",
    "        residuals[col] = model.resid\n",
    "\n",
    "    betas = np.array(betas)\n",
    "\n",
    "    # Cross-sectional variance of mean returns\n",
    "    mean_returns = df.mean()\n",
    "    sigma_mu_sq = mean_returns.var()\n",
    "\n",
    "    # Cross-sectional variance of betas × autocov of market returns\n",
    "    sigma_beta_sq = betas.var()\n",
    "    cov_F = np.cov(market_series[1:], market_series[:-1])[0, 1]\n",
    "    beta_component = sigma_beta_sq * cov_F\n",
    "\n",
    "    # Average autocovariance of residuals\n",
    "    resid_covs = []\n",
    "    for col in residuals.columns:\n",
    "        eps = residuals[col].dropna()\n",
    "        resid_covs.append(np.cov(eps[1:], eps[:-1])[0, 1])\n",
    "    resid_component = np.nanmean(resid_covs)\n",
    "\n",
    "   \n",
    "    total = sigma_mu_sq + beta_component + resid_component\n",
    "\n",
    "    print(\"Decomposition results:\")\n",
    "    print(f\"σ_mu^2 (mean return var): {sigma_mu_sq:.6f}\")\n",
    "    print(f\"σ_beta^2 * Cov(F_t, F_t-1): {beta_component:.6f}\")\n",
    "    print(f\"Mean Cov(ε_t, ε_t-1): {resid_component:.6f}\")\n",
    "    print(f\"Sum of components: {total:.6f}\")\n",
    "\n",
    "    return {\n",
    "        \"var_mean\": sigma_mu_sq,\n",
    "        \"beta_component\": beta_component,\n",
    "        \"resid_component\": resid_component,\n",
    "        \"sum\": total\n",
    "    }\n"
   ]
  },
  {
   "cell_type": "code",
   "execution_count": 40,
   "id": "a416f630",
   "metadata": {},
   "outputs": [
    {
     "name": "stdout",
     "output_type": "stream",
     "text": [
      "Decomposition results:\n",
      "σ_mu^2 (mean return var): 0.000001\n",
      "σ_beta^2 * Cov(F_t, F_t-1): 0.000013\n",
      "Mean Cov(ε_t, ε_t-1): 0.000064\n",
      "Sum of components: 0.000078\n"
     ]
    },
    {
     "data": {
      "text/plain": [
       "{'var_mean': np.float64(1.2246885335106452e-06),\n",
       " 'beta_component': np.float64(1.2922901614503928e-05),\n",
       " 'resid_component': np.float64(6.35148787925008e-05),\n",
       " 'sum': np.float64(7.766246894051537e-05)}"
      ]
     },
     "execution_count": 40,
     "metadata": {},
     "output_type": "execute_result"
    }
   ],
   "source": [
    "decompose_momentum(industry_excess, market_excess)"
   ]
  },
  {
   "cell_type": "markdown",
   "id": "775aebc2",
   "metadata": {},
   "source": [
    "The average cross-autocovariance of residual returns is the largest contributor to the 1-month, 1-month momentum profits.\n",
    "This indicates that momentum primarily stems from persistence in industry-specific residuals, not from systematic risk or differences in average returns."
   ]
  },
  {
   "cell_type": "markdown",
   "id": "3b85666f",
   "metadata": {},
   "source": [
    "### Question C 12-month / 1-month industry momentum portfolio"
   ]
  },
  {
   "cell_type": "code",
   "execution_count": 41,
   "id": "ec1064bc",
   "metadata": {},
   "outputs": [
    {
     "name": "stdout",
     "output_type": "stream",
     "text": [
      "Average Return: -0.1290\n",
      "Std Dev: 4.2339\n",
      "Sharpe Ratio: -0.0305\n",
      "T-statistic: -0.9984\n"
     ]
    },
    {
     "data": {
      "text/plain": [
       "(np.float64(-0.129049394221808),\n",
       " np.float64(4.233878006757246),\n",
       " np.float64(-0.030480187198555525),\n",
       " np.float64(-0.9984296990324828))"
      ]
     },
     "execution_count": 41,
     "metadata": {},
     "output_type": "execute_result"
    }
   ],
   "source": [
    "mom_12_1 = momentum_strategy(industry_df, top_n=3, lookback=12, skip=0)\n",
    "summarize_strategy(mom_12_1)"
   ]
  },
  {
   "cell_type": "markdown",
   "id": "8f5a6411",
   "metadata": {},
   "source": [
    "### Question D 12-month / 2-month industry momentum portfolio"
   ]
  },
  {
   "cell_type": "code",
   "execution_count": 47,
   "id": "6eb62159",
   "metadata": {},
   "outputs": [
    {
     "name": "stdout",
     "output_type": "stream",
     "text": [
      "Average Return: 0.0122\n",
      "Std Dev: 4.3708\n",
      "Sharpe Ratio: 0.0028\n",
      "T-statistic: 0.0917\n"
     ]
    },
    {
     "data": {
      "text/plain": [
       "(np.float64(0.012248134328358204),\n",
       " np.float64(4.370843884999402),\n",
       " np.float64(0.0028022355981172),\n",
       " np.float64(0.09174914768195312))"
      ]
     },
     "execution_count": 47,
     "metadata": {},
     "output_type": "execute_result"
    }
   ],
   "source": [
    "# 12-month lookback, skip 1 month between ranking and return\n",
    "mom_12_2 = momentum_strategy(industry_df, top_n=3, lookback=12, skip=1)\n",
    "summarize_strategy(mom_12_2)\n"
   ]
  },
  {
   "cell_type": "markdown",
   "id": "4084bc0c",
   "metadata": {},
   "source": [
    "The average monthly return of this 12–2 strategy was 0.012%, compared to −0.13% in the 12–1 case, while the Sharpe ratio improved from −0.03 to 0.003. Although still statistically insignificant, the sign change indicates that skipping one month between ranking and holding removes the short-term reversal effect seen previously.\n",
    "\n",
    "Here momentum profits are strongest when the most recent month’s return is excluded, this could be because the last month often reflects temporary overreaction and subsequent mean reversion."
   ]
  },
  {
   "cell_type": "code",
   "execution_count": 48,
   "id": "00222cc0",
   "metadata": {},
   "outputs": [
    {
     "name": "stdout",
     "output_type": "stream",
     "text": [
      "1-month momentum:\n",
      "Fama-French Alpha: 0.7017\n",
      "T-statistic: 4.1970\n",
      "\n",
      "12-month momentum (no skip):\n",
      "Fama-French Alpha: -0.1063\n",
      "T-statistic: -0.8132\n",
      "\n",
      "12-month momentum (1-month skip):\n",
      "Fama-French Alpha: 0.0842\n",
      "T-statistic: 0.6294\n"
     ]
    },
    {
     "data": {
      "text/plain": [
       "(np.float64(0.08415769258462713), np.float64(0.6293993701293014))"
      ]
     },
     "execution_count": 48,
     "metadata": {},
     "output_type": "execute_result"
    }
   ],
   "source": [
    "''' e) For all three momentum strategies from parts a), c), and d), calculate the three-factor\n",
    "Fama-French alpha using the factors RMRF, SMB, and HML, and determine if the\n",
    "Fama-French model can price the momentum'''\n",
    "\n",
    "def fama_french_alpha_three_factors(momentum_series, factors_df):\n",
    "    # Align momentum series with factors\n",
    "    combined = pd.concat([momentum_series, factors_df], axis=1).dropna()\n",
    "    y = combined[momentum_series.name]\n",
    "    X = combined[[\"Mkt-RF\", \"SMB\", \"HML\"]]\n",
    "    X = sm.add_constant(X)\n",
    "\n",
    "    # Fit the Fama-French model\n",
    "    model = sm.OLS(y, X).fit()\n",
    "    alpha = model.params[\"const\"]\n",
    "    t_stat = model.tvalues[\"const\"]\n",
    "\n",
    "    print(f\"Fama-French Alpha: {alpha:.4f}\")\n",
    "    print(f\"T-statistic: {t_stat:.4f}\")\n",
    "\n",
    "    return alpha, t_stat\n",
    "\n",
    "print(\"1-month momentum:\")\n",
    "fama_french_alpha_three_factors(mom_1_1, factors)\n",
    "print(\"\\n12-month momentum (no skip):\")\n",
    "fama_french_alpha_three_factors(mom_12_1, factors)\n",
    "print(\"\\n12-month momentum (1-month skip):\")\n",
    "fama_french_alpha_three_factors(mom_12_2, factors)"
   ]
  },
  {
   "cell_type": "markdown",
   "id": "6a0452ae",
   "metadata": {},
   "source": [
    "The results mean that the Fama-French three-factor model does not fully explain the returns of the 1month momentum strategy, as indicated by the alpha > 0 and the statistically significant T-statistic . This suggests that there are additional factors or anomalies, such as momentum, that are not captured by the Fama-French model.\n",
    "However, for the 12-month momentum strategies (both with and without the skip), the alphas are much closer to zero and the T-statistics are not statistically significant. This indicates that the Fama-French model does a better job of explaining the returns of these longer-term momentum strategies."
   ]
  },
  {
   "cell_type": "code",
   "execution_count": 49,
   "id": "75896c62",
   "metadata": {},
   "outputs": [
    {
     "name": "stdout",
     "output_type": "stream",
     "text": [
      "1-month momentum with 4 factors:\n",
      "Fama-French Alpha: 0.5631\n",
      "T-statistic: 3.2937\n",
      "\n",
      "12-month momentum (no skip) with 4 factors:\n",
      "Fama-French Alpha: -0.1165\n",
      "T-statistic: -0.8671\n",
      "\n",
      "12-month momentum (1-month skip) with 4 factors:\n",
      "Fama-French Alpha: 0.0190\n",
      "T-statistic: 0.1382\n"
     ]
    },
    {
     "data": {
      "text/plain": [
       "(np.float64(0.01895226970931703), np.float64(0.1381910058542649))"
      ]
     },
     "execution_count": 49,
     "metadata": {},
     "output_type": "execute_result"
    }
   ],
   "source": [
    "'''f) For all three momentum strategies from parts a), c), and d), calculate the four-factor\n",
    "Fama-French alpha using the factors RMRF, SMB, HML, and UMD, and determine\n",
    "if this model can now price the momentum strategies? What do you learn from this\n",
    "regression?'''\n",
    "\n",
    "def fama_french_alpha_four_factors(momentum_series, factors_df):\n",
    "    # Align momentum series with factors\n",
    "    combined = pd.concat([momentum_series, factors_df], axis=1).dropna()\n",
    "    y = combined[momentum_series.name]\n",
    "    X = combined[[\"Mkt-RF\", \"SMB\", \"HML\", \"UMD\"]]\n",
    "    X = sm.add_constant(X)\n",
    "\n",
    "    # Fit the Fama-French model\n",
    "    model = sm.OLS(y, X).fit()\n",
    "    alpha = model.params[\"const\"]\n",
    "    t_stat = model.tvalues[\"const\"]\n",
    "\n",
    "    print(f\"Fama-French Alpha: {alpha:.4f}\")\n",
    "    print(f\"T-statistic: {t_stat:.4f}\")\n",
    "\n",
    "    return alpha, t_stat\n",
    "print(\"1-month momentum with 4 factors:\")\n",
    "fama_french_alpha_four_factors(mom_1_1, factors.assign(UMD=factors[\"UMD\"]))\n",
    "print(\"\\n12-month momentum (no skip) with 4 factors:\")\n",
    "fama_french_alpha_four_factors(mom_12_1, factors.assign(UMD=factors[\"UMD\"]))\n",
    "print(\"\\n12-month momentum (1-month skip) with 4 factors:\")\n",
    "fama_french_alpha_four_factors(mom_12_2, factors.assign(UMD=factors[\"UMD\"]))"
   ]
  },
  {
   "cell_type": "markdown",
   "id": "328fa18d",
   "metadata": {},
   "source": [
    "None of the results for the alphas are statistically significant which means that the Fama-French four factors can price the momentum strategies. This suggests that the momentum factor (UMD) captures the additional return variation that was not explained by the three-factor model, particularly for the 1-month momentum strategy which had a significant alpha in the three-factor regression. "
   ]
  }
 ],
 "metadata": {
  "kernelspec": {
   "display_name": ".venv",
   "language": "python",
   "name": "python3"
  },
  "language_info": {
   "codemirror_mode": {
    "name": "ipython",
    "version": 3
   },
   "file_extension": ".py",
   "mimetype": "text/x-python",
   "name": "python",
   "nbconvert_exporter": "python",
   "pygments_lexer": "ipython3",
   "version": "3.12.1"
  }
 },
 "nbformat": 4,
 "nbformat_minor": 5
}
