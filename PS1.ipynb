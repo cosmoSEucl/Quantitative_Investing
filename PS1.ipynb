{
 "cells": [
  {
   "cell_type": "markdown",
   "id": "92c12543",
   "metadata": {},
   "source": [
    "## Problem Set 1\n"
   ]
  },
  {
   "cell_type": "markdown",
   "id": "3c0e8b1f",
   "metadata": {},
   "source": [
    "## Part 1"
   ]
  },
  {
   "cell_type": "markdown",
   "id": "d530dc4d",
   "metadata": {},
   "source": [
    "### Load the data"
   ]
  },
  {
   "cell_type": "code",
   "execution_count": 16,
   "id": "0ddbea41",
   "metadata": {},
   "outputs": [],
   "source": [
    "import pandas as pd"
   ]
  },
  {
   "cell_type": "code",
   "execution_count": 10,
   "id": "e3231a6c",
   "metadata": {},
   "outputs": [],
   "source": [
    "import pandas as pd\n",
    "path = 'Problem_Set1_2025.xlsx'\n",
    "df = pd.read_excel(\n",
    "    path,\n",
    "    engine=\"openpyxl\",\n",
    "    sheet_name=0,   \n",
    "    header=5,       \n",
    "    decimal=\",\",    \n",
    ")"
   ]
  },
  {
   "cell_type": "code",
   "execution_count": 11,
   "id": "4fcd574b",
   "metadata": {},
   "outputs": [],
   "source": [
    "df['date'] = pd.to_datetime(df['date'].astype(str), format=\"%Y%m\").dt.to_period(\"M\")\n",
    "df = df.set_index('date').sort_index()\n"
   ]
  },
  {
   "cell_type": "code",
   "execution_count": 12,
   "id": "443a4f2a",
   "metadata": {},
   "outputs": [],
   "source": [
    "df = df.drop(columns=[\"Unnamed: 51\"])"
   ]
  },
  {
   "cell_type": "code",
   "execution_count": 17,
   "id": "80b219ab",
   "metadata": {},
   "outputs": [
    {
     "data": {
      "text/html": [
       "<div>\n",
       "<style scoped>\n",
       "    .dataframe tbody tr th:only-of-type {\n",
       "        vertical-align: middle;\n",
       "    }\n",
       "\n",
       "    .dataframe tbody tr th {\n",
       "        vertical-align: top;\n",
       "    }\n",
       "\n",
       "    .dataframe thead th {\n",
       "        text-align: right;\n",
       "    }\n",
       "</style>\n",
       "<table border=\"1\" class=\"dataframe\">\n",
       "  <thead>\n",
       "    <tr style=\"text-align: right;\">\n",
       "      <th></th>\n",
       "      <th>TXN</th>\n",
       "      <th>ISRG</th>\n",
       "      <th>CIEN</th>\n",
       "      <th>BHI</th>\n",
       "      <th>WDC</th>\n",
       "      <th>CAH</th>\n",
       "      <th>CCI</th>\n",
       "      <th>BBT</th>\n",
       "      <th>TAP</th>\n",
       "      <th>VMC</th>\n",
       "      <th>...</th>\n",
       "      <th>DVN</th>\n",
       "      <th>A</th>\n",
       "      <th>ADI</th>\n",
       "      <th>XRX</th>\n",
       "      <th>ALL</th>\n",
       "      <th>QRVO</th>\n",
       "      <th>PPL</th>\n",
       "      <th>DUK</th>\n",
       "      <th>EQT</th>\n",
       "      <th>Market (Value Weighted Index)</th>\n",
       "    </tr>\n",
       "    <tr>\n",
       "      <th>date</th>\n",
       "      <th></th>\n",
       "      <th></th>\n",
       "      <th></th>\n",
       "      <th></th>\n",
       "      <th></th>\n",
       "      <th></th>\n",
       "      <th></th>\n",
       "      <th></th>\n",
       "      <th></th>\n",
       "      <th></th>\n",
       "      <th></th>\n",
       "      <th></th>\n",
       "      <th></th>\n",
       "      <th></th>\n",
       "      <th></th>\n",
       "      <th></th>\n",
       "      <th></th>\n",
       "      <th></th>\n",
       "      <th></th>\n",
       "      <th></th>\n",
       "      <th></th>\n",
       "    </tr>\n",
       "  </thead>\n",
       "  <tbody>\n",
       "    <tr>\n",
       "      <th>2001-01</th>\n",
       "      <td>-7.5013</td>\n",
       "      <td>-1.4706</td>\n",
       "      <td>10.8462</td>\n",
       "      <td>-0.5113</td>\n",
       "      <td>116.6154</td>\n",
       "      <td>-4.3413</td>\n",
       "      <td>3.2333</td>\n",
       "      <td>-1.2127</td>\n",
       "      <td>-13.4008</td>\n",
       "      <td>-5.0026</td>\n",
       "      <td>...</td>\n",
       "      <td>-10.1197</td>\n",
       "      <td>-0.3653</td>\n",
       "      <td>22.2955</td>\n",
       "      <td>76.6487</td>\n",
       "      <td>-10.7489</td>\n",
       "      <td>-21.1845</td>\n",
       "      <td>-7.1646</td>\n",
       "      <td>-14.2053</td>\n",
       "      <td>-12.0899</td>\n",
       "      <td>3.959900</td>\n",
       "    </tr>\n",
       "    <tr>\n",
       "      <th>2001-02</th>\n",
       "      <td>-32.5342</td>\n",
       "      <td>-13.4328</td>\n",
       "      <td>-25.3990</td>\n",
       "      <td>-4.9214</td>\n",
       "      <td>-21.9697</td>\n",
       "      <td>6.5058</td>\n",
       "      <td>-10.0671</td>\n",
       "      <td>-1.3650</td>\n",
       "      <td>-3.4723</td>\n",
       "      <td>-6.4314</td>\n",
       "      <td>...</td>\n",
       "      <td>4.0146</td>\n",
       "      <td>-34.0055</td>\n",
       "      <td>-40.4153</td>\n",
       "      <td>-25.4590</td>\n",
       "      <td>3.0093</td>\n",
       "      <td>-48.5549</td>\n",
       "      <td>8.9154</td>\n",
       "      <td>12.1821</td>\n",
       "      <td>-1.6786</td>\n",
       "      <td>-9.909901</td>\n",
       "    </tr>\n",
       "    <tr>\n",
       "      <th>2001-03</th>\n",
       "      <td>4.8393</td>\n",
       "      <td>-32.7586</td>\n",
       "      <td>-37.8605</td>\n",
       "      <td>-7.3724</td>\n",
       "      <td>15.5340</td>\n",
       "      <td>-4.6502</td>\n",
       "      <td>-41.0448</td>\n",
       "      <td>-2.6571</td>\n",
       "      <td>-2.2554</td>\n",
       "      <td>10.6308</td>\n",
       "      <td>...</td>\n",
       "      <td>2.1930</td>\n",
       "      <td>-14.6389</td>\n",
       "      <td>-2.8418</td>\n",
       "      <td>-0.8278</td>\n",
       "      <td>5.2183</td>\n",
       "      <td>5.0562</td>\n",
       "      <td>-3.2064</td>\n",
       "      <td>4.8834</td>\n",
       "      <td>20.2091</td>\n",
       "      <td>-7.039000</td>\n",
       "    </tr>\n",
       "    <tr>\n",
       "      <th>2001-04</th>\n",
       "      <td>24.9879</td>\n",
       "      <td>35.3846</td>\n",
       "      <td>31.8802</td>\n",
       "      <td>8.2071</td>\n",
       "      <td>11.7647</td>\n",
       "      <td>4.4961</td>\n",
       "      <td>65.3333</td>\n",
       "      <td>1.3648</td>\n",
       "      <td>-20.5379</td>\n",
       "      <td>-1.2812</td>\n",
       "      <td>...</td>\n",
       "      <td>1.3917</td>\n",
       "      <td>26.9444</td>\n",
       "      <td>30.5464</td>\n",
       "      <td>50.9182</td>\n",
       "      <td>-0.4530</td>\n",
       "      <td>151.3797</td>\n",
       "      <td>25.1137</td>\n",
       "      <td>9.4057</td>\n",
       "      <td>15.9420</td>\n",
       "      <td>8.383100</td>\n",
       "    </tr>\n",
       "    <tr>\n",
       "      <th>2001-05</th>\n",
       "      <td>-11.8346</td>\n",
       "      <td>-2.2727</td>\n",
       "      <td>-1.6527</td>\n",
       "      <td>0.5727</td>\n",
       "      <td>-18.9850</td>\n",
       "      <td>6.8101</td>\n",
       "      <td>-32.2172</td>\n",
       "      <td>2.0610</td>\n",
       "      <td>0.2019</td>\n",
       "      <td>17.4670</td>\n",
       "      <td>...</td>\n",
       "      <td>-1.3557</td>\n",
       "      <td>-14.0220</td>\n",
       "      <td>-5.8339</td>\n",
       "      <td>9.6239</td>\n",
       "      <td>8.2874</td>\n",
       "      <td>-11.2321</td>\n",
       "      <td>8.5636</td>\n",
       "      <td>-1.6360</td>\n",
       "      <td>-6.8500</td>\n",
       "      <td>1.045800</td>\n",
       "    </tr>\n",
       "  </tbody>\n",
       "</table>\n",
       "<p>5 rows × 51 columns</p>\n",
       "</div>"
      ],
      "text/plain": [
       "             TXN     ISRG     CIEN     BHI       WDC     CAH      CCI     BBT  \\\n",
       "date                                                                            \n",
       "2001-01  -7.5013  -1.4706  10.8462 -0.5113  116.6154 -4.3413   3.2333 -1.2127   \n",
       "2001-02 -32.5342 -13.4328 -25.3990 -4.9214  -21.9697  6.5058 -10.0671 -1.3650   \n",
       "2001-03   4.8393 -32.7586 -37.8605 -7.3724   15.5340 -4.6502 -41.0448 -2.6571   \n",
       "2001-04  24.9879  35.3846  31.8802  8.2071   11.7647  4.4961  65.3333  1.3648   \n",
       "2001-05 -11.8346  -2.2727  -1.6527  0.5727  -18.9850  6.8101 -32.2172  2.0610   \n",
       "\n",
       "             TAP      VMC  ...      DVN        A      ADI      XRX      ALL  \\\n",
       "date                       ...                                                \n",
       "2001-01 -13.4008  -5.0026  ... -10.1197  -0.3653  22.2955  76.6487 -10.7489   \n",
       "2001-02  -3.4723  -6.4314  ...   4.0146 -34.0055 -40.4153 -25.4590   3.0093   \n",
       "2001-03  -2.2554  10.6308  ...   2.1930 -14.6389  -2.8418  -0.8278   5.2183   \n",
       "2001-04 -20.5379  -1.2812  ...   1.3917  26.9444  30.5464  50.9182  -0.4530   \n",
       "2001-05   0.2019  17.4670  ...  -1.3557 -14.0220  -5.8339   9.6239   8.2874   \n",
       "\n",
       "             QRVO      PPL      DUK      EQT  Market (Value Weighted Index)  \n",
       "date                                                                         \n",
       "2001-01  -21.1845  -7.1646 -14.2053 -12.0899                       3.959900  \n",
       "2001-02  -48.5549   8.9154  12.1821  -1.6786                      -9.909901  \n",
       "2001-03    5.0562  -3.2064   4.8834  20.2091                      -7.039000  \n",
       "2001-04  151.3797  25.1137   9.4057  15.9420                       8.383100  \n",
       "2001-05  -11.2321   8.5636  -1.6360  -6.8500                       1.045800  \n",
       "\n",
       "[5 rows x 51 columns]"
      ]
     },
     "execution_count": 17,
     "metadata": {},
     "output_type": "execute_result"
    }
   ],
   "source": [
    "df.head()"
   ]
  },
  {
   "cell_type": "code",
   "execution_count": 13,
   "id": "13743965",
   "metadata": {},
   "outputs": [],
   "source": [
    "import matplotlib.pyplot as plt"
   ]
  },
  {
   "cell_type": "code",
   "execution_count": 14,
   "id": "6a348e66",
   "metadata": {},
   "outputs": [
    {
     "name": "stdout",
     "output_type": "stream",
     "text": [
      "N=5: Mean=1.5223, StdDev=9.1178\n",
      "N=10: Mean=1.2407, StdDev=6.5955\n",
      "N=25: Mean=1.2200, StdDev=5.4496\n",
      "N=50: Mean=1.2084, StdDev=5.3901\n"
     ]
    },
    {
     "data": {
      "image/png": "[encoded data removed]",
      "text/plain": [
       "<Figure size 640x480 with 1 Axes>"
      ]
     },
     "metadata": {},
     "output_type": "display_data"
    }
   ],
   "source": [
    "returns = df.iloc[:, 1:51] \n",
    "portfolio_sizes = [5, 10, 25, 50]\n",
    "\n",
    "means, stds = [], []\n",
    "\n",
    "for N in portfolio_sizes:\n",
    "    port_ret = returns.iloc[:, :N].mean(axis=1) # average return across those N assets for each time period\n",
    "    means.append(port_ret.mean())\n",
    "    stds.append(port_ret.std(ddof=1))\n",
    "\n",
    "for N, m, s in zip(portfolio_sizes, means, stds):\n",
    "    print(f\"N={N}: Mean={m:.4f}, StdDev={s:.4f}\")\n",
    "\n",
    "plt.plot(portfolio_sizes, stds, marker=\"o\")\n",
    "plt.title(\"Equal-Weight Portfolio: Std Dev vs Number of Stocks\")\n",
    "plt.xlabel(\"Number of Stocks\")\n",
    "plt.ylabel(\"Standard Deviation\")\n",
    "plt.grid(True, alpha=0.3)\n",
    "plt.show()\n"
   ]
  },
  {
   "cell_type": "markdown",
   "id": "ca2a3682",
   "metadata": {},
   "source": [
    "This is a concave curve\n",
    "Shows a declining curve, very steep at first (from N=5 to N=10) and then flattening (from N=25 to N=50).\n"
   ]
  },
  {
   "cell_type": "markdown",
   "id": "3856be44",
   "metadata": {},
   "source": [
    "Are the results consistent with what you would expect theoretically?\n",
    "\n",
    "As N (number of stocks) increases, stds (risk) should go down as we are diversifying the portfolio with different stocks that have different standard deviation. This is exactly what we would expect because diversification has the largest benefit when adding the first few stocks, but additional stocks don't have as much impact when the portfolio is already well diversified. \n"
   ]
  },
  {
   "cell_type": "markdown",
   "id": "e3fc956d",
   "metadata": {},
   "source": [
    "Do more stocks eliminate all risk?\n",
    "x The variance of the portfolio will always be less than the variances of each individual stock, so long as correlation < 1. The risk cannot go to zero. It would only be zero if every asset could be paired with another that is perfectly negatively correlated, which is not the case in reality. Therefore, diversification lowers risk, but only down to a positive limit."
   ]
  },
  {
   "cell_type": "markdown",
   "id": "2cd3b68c",
   "metadata": {},
   "source": [
    "(b)"
   ]
  },
  {
   "cell_type": "code",
   "execution_count": 9,
   "id": "828a5f6f",
   "metadata": {},
   "outputs": [
    {
     "name": "stdout",
     "output_type": "stream",
     "text": [
      "[np.float64(0.5232112398609686), np.float64(0.34818421743317085), np.float64(0.1677594453852024), np.float64(0.07852315910218649)]\n"
     ]
    },
    {
     "data": {
      "image/png": "[encoded data removed]",
      "text/plain": [
       "<Figure size 640x480 with 1 Axes>"
      ]
     },
     "metadata": {},
     "output_type": "display_data"
    }
   ],
   "source": [
    "\n",
    "pct_var = []\n",
    "\n",
    "for N in portfolio_sizes:\n",
    "    R = returns.iloc[:, :N]                   \n",
    "    var_part = R.var(ddof=1).sum() / (N**2)  # (sum of individual variances)/N^2\n",
    "    port_var = R.mean(axis=1).var(ddof=1)    # variance of equal-weight portfolio return\n",
    "    pct_var.append(var_part / port_var)\n",
    "\n",
    "print(pct_var)\n",
    "plt.plot(portfolio_sizes, pct_var, marker=\"o\")\n",
    "plt.title(\"Share of Portfolio Variance Due to Individual Variances\")\n",
    "plt.xlabel(\"Number of Stocks (N)\")\n",
    "plt.ylabel(\"Percent of Total Variance\")\n",
    "plt.grid(True, alpha=0.3)\n",
    "plt.show()\n"
   ]
  },
  {
   "cell_type": "markdown",
   "id": "bb158cc3",
   "metadata": {},
   "source": [
    "The plot shows that the share of portfolio variance coming from individual variances decreases as the number of stocks increases. With only 5 stocks, over half of the variance comes from the individual stock variances, but by 50 stocks this falls to under 10%.\n",
    "\n",
    "Thus, the curve is downward-sloping and convex, showing that diversification reduces the importance of individual variances, while co-movements (covariances) drive almost all portfolio risk when N is large.\n",
    "\n",
    "This, once again, is consistent with theory: in the formula for portfolio variance, when we average more stocks, the impact of each stock’s own variance shrinks, because it is scaled by 1/N^2. At the same time, the number of covariance terms between stocks grows rapidly. "
   ]
  },
  {
   "cell_type": "markdown",
   "id": "2d53f68d",
   "metadata": {},
   "source": [
    "(c)"
   ]
  },
  {
   "cell_type": "markdown",
   "id": "779e74ea",
   "metadata": {},
   "source": [
    "A value-weighted portfolio puts more weight on big companies, while an equal-weighted portfolio gives every stock the same weight.\n",
    "Whether VW has more or less variance depends on the properties of the large companies:\n",
    "- If big companies are more stable (lower variance, lower correlation), VW will have less variance than EW.\n",
    "- If big companies are more volatile or are more correlated, VW can have more variance.\n",
    "\n",
    "If large-cap stocks (which get bigger VW weights) have lower variances than the average stock, VW can have lower variance than EW. If they are more volatile, VW can be higher variance. (This is just 𝑊′Σ𝑊 applied to different 𝜎𝑖𝑖 σii.)"
   ]
  },
  {
   "cell_type": "markdown",
   "id": "3c7dfc98",
   "metadata": {},
   "source": [
    "(d)"
   ]
  },
  {
   "cell_type": "code",
   "execution_count": null,
   "id": "b12ae84f",
   "metadata": {},
   "outputs": [
    {
     "name": "stdout",
     "output_type": "stream",
     "text": [
      "N=5: mean=1.5223, t=2.24, p=0.0263\n",
      "N=10: mean=1.2407, t=2.52, p=0.0125\n",
      "N=25: mean=1.2200, t=3.00, p=0.0031\n",
      "N=50: mean=1.2084, t=3.01, p=0.0030\n"
     ]
    }
   ],
   "source": [
    "from scipy import stats\n",
    "\n",
    "results = []\n",
    "for N in portfolio_sizes:\n",
    "    R = returns.iloc[:, :N]          \n",
    "    port = R.mean(axis=1)            \n",
    "    tstat, pval = stats.ttest_1samp(port, 0) \n",
    "    print(f\"N={N}: mean={port.mean():.4f}, t={tstat:.2f}, p={pval:.4f}\")\n"
   ]
  }
 ],
 "metadata": {
  "kernelspec": {
   "display_name": ".venv",
   "language": "python",
   "name": "python3"
  },
  "language_info": {
   "codemirror_mode": {
    "name": "ipython",
    "version": 3
   },
   "file_extension": ".py",
   "mimetype": "text/x-python",
   "name": "python",
   "nbconvert_exporter": "python",
   "pygments_lexer": "ipython3",
   "version": "3.10.5"
  }
 },
 "nbformat": 4,
 "nbformat_minor": 5
}
